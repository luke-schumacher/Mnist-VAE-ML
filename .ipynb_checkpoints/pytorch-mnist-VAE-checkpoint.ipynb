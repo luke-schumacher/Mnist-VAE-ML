{
 "cells": [
  {
   "cell_type": "code",
   "execution_count": 8,
   "metadata": {},
   "outputs": [],
   "source": [
    "# prerequisites\n",
    "import torch\n",
    "import torch.nn as nn\n",
    "import torch.nn.functional as F\n",
    "import torch.optim as optim\n",
    "from torchvision import datasets, transforms\n",
    "from torch.autograd import Variable\n",
    "from torchvision.utils import save_image\n",
    "\n",
    "bs = 100\n",
    "# MNIST Dataset\n",
    "train_dataset = datasets.MNIST(root='./mnist_data/', train=True, transform=transforms.ToTensor(), download=True)\n",
    "test_dataset = datasets.MNIST(root='./mnist_data/', train=False, transform=transforms.ToTensor(), download=False)\n",
    "\n",
    "# Data Loader (Input Pipeline)\n",
    "train_loader = torch.utils.data.DataLoader(dataset=train_dataset, batch_size=bs, shuffle=True)\n",
    "test_loader = torch.utils.data.DataLoader(dataset=test_dataset, batch_size=bs, shuffle=False)"
   ]
  },
  {
   "cell_type": "code",
   "execution_count": 17,
   "metadata": {},
   "outputs": [],
   "source": [
    "class VAE(nn.Module):\n",
    "    def __init__(self, x_dim, h_dim1, h_dim2, z_dim):\n",
    "        super(VAE, self).__init__()\n",
    "        \n",
    "        # encoder part\n",
    "        self.fc1 = nn.Linear(x_dim, h_dim1)\n",
    "        self.fc2 = nn.Linear(h_dim1, h_dim2)\n",
    "        self.fc31 = nn.Linear(h_dim2, z_dim)\n",
    "        self.fc32 = nn.Linear(h_dim2, z_dim)\n",
    "        # decoder part\n",
    "        self.fc4 = nn.Linear(z_dim, h_dim2)\n",
    "        self.fc5 = nn.Linear(h_dim2, h_dim1)\n",
    "        self.fc6 = nn.Linear(h_dim1, x_dim)\n",
    "        \n",
    "    def encoder(self, x):\n",
    "        h = F.relu(self.fc1(x))\n",
    "        h = F.relu(self.fc2(h))\n",
    "        return self.fc31(h), self.fc32(h) # mu, log_var\n",
    "    \n",
    "    def sampling(self, mu, log_var):\n",
    "        std = torch.exp(0.5*log_var)\n",
    "        eps = torch.randn_like(std)\n",
    "        return eps.mul(std).add_(mu) # return z sample\n",
    "        \n",
    "    def decoder(self, z):\n",
    "        h = F.relu(self.fc4(z))\n",
    "        h = F.relu(self.fc5(h))\n",
    "        return F.sigmoid(self.fc6(h)) \n",
    "    \n",
    "    def forward(self, x):\n",
    "        mu, log_var = self.encoder(x.view(-1, 784))\n",
    "        z = self.sampling(mu, log_var)\n",
    "        return self.decoder(z), mu, log_var\n",
    "\n",
    "# build model\n",
    "vae = VAE(x_dim=784, h_dim1= 512, h_dim2=256, z_dim=2)\n",
    "if torch.cuda.is_available():\n",
    "    vae = VAE(x_dim=784, h_dim1=512, h_dim2=256, z_dim=2)\n"
   ]
  },
  {
   "cell_type": "code",
   "execution_count": 18,
   "metadata": {},
   "outputs": [
    {
     "data": {
      "text/plain": [
       "VAE(\n",
       "  (fc1): Linear(in_features=784, out_features=512, bias=True)\n",
       "  (fc2): Linear(in_features=512, out_features=256, bias=True)\n",
       "  (fc31): Linear(in_features=256, out_features=2, bias=True)\n",
       "  (fc32): Linear(in_features=256, out_features=2, bias=True)\n",
       "  (fc4): Linear(in_features=2, out_features=256, bias=True)\n",
       "  (fc5): Linear(in_features=256, out_features=512, bias=True)\n",
       "  (fc6): Linear(in_features=512, out_features=784, bias=True)\n",
       ")"
      ]
     },
     "execution_count": 18,
     "metadata": {},
     "output_type": "execute_result"
    }
   ],
   "source": [
    "vae"
   ]
  },
  {
   "cell_type": "code",
   "execution_count": 19,
   "metadata": {},
   "outputs": [],
   "source": [
    "optimizer = optim.Adam(vae.parameters())\n",
    "# return reconstruction error + KL divergence losses\n",
    "def loss_function(recon_x, x, mu, log_var):\n",
    "    BCE = F.binary_cross_entropy(recon_x, x.view(-1, 784), reduction='sum')\n",
    "    KLD = -0.5 * torch.sum(1 + log_var - mu.pow(2) - log_var.exp())\n",
    "    return BCE + KLD"
   ]
  },
  {
   "cell_type": "code",
   "execution_count": 20,
   "metadata": {},
   "outputs": [],
   "source": [
    "def train(epoch):\n",
    "    vae.train()\n",
    "    train_loss = 0\n",
    "    for batch_idx, (data, _) in enumerate(train_loader):\n",
    "        if torch.cuda.is_available():\n",
    "            data = data.cuda()\n",
    "        optimizer.zero_grad()\n",
    "        \n",
    "        recon_batch, mu, log_var = vae(data)\n",
    "        loss = loss_function(recon_batch, data, mu, log_var)\n",
    "        \n",
    "        loss.backward()\n",
    "        train_loss += loss.item()\n",
    "        optimizer.step()\n",
    "        \n",
    "        if batch_idx % 100 == 0:\n",
    "            print('Train Epoch: {} [{}/{} ({:.0f}%)]\\tLoss: {:.6f}'.format(\n",
    "                epoch, batch_idx * len(data), len(train_loader.dataset),\n",
    "                100. * batch_idx / len(train_loader), loss.item() / len(data)))\n",
    "    print('====> Epoch: {} Average loss: {:.4f}'.format(epoch, train_loss / len(train_loader.dataset)))"
   ]
  },
  {
   "cell_type": "code",
   "execution_count": 21,
   "metadata": {},
   "outputs": [],
   "source": [
    "def test():\n",
    "    vae.eval()\n",
    "    test_loss = 0\n",
    "    with torch.no_grad():\n",
    "        for data, _ in test_loader:\n",
    "            if torch.cuda.is_available():\n",
    "                data = data.cuda()\n",
    "            recon, mu, log_var = vae(data)\n",
    "            test_loss += loss_function(recon, data, mu, log_var).item()\n",
    "        \n",
    "    test_loss /= len(test_loader.dataset)\n",
    "    print('====> Test set loss: {:.4f}'.format(test_loss))"
   ]
  },
  {
   "cell_type": "code",
   "execution_count": null,
   "metadata": {
    "scrolled": true
   },
   "outputs": [
    {
     "name": "stdout",
     "output_type": "stream",
     "text": [
      "Train Epoch: 1 [0/60000 (0%)]\tLoss: 545.056328\n",
      "Train Epoch: 1 [10000/60000 (17%)]\tLoss: 186.094277\n",
      "Train Epoch: 1 [20000/60000 (33%)]\tLoss: 172.905449\n",
      "Train Epoch: 1 [30000/60000 (50%)]\tLoss: 177.806973\n",
      "Train Epoch: 1 [40000/60000 (67%)]\tLoss: 172.420605\n",
      "Train Epoch: 1 [50000/60000 (83%)]\tLoss: 163.193623\n",
      "====> Epoch: 1 Average loss: 178.3008\n",
      "====> Test set loss: 162.2154\n",
      "Train Epoch: 2 [0/60000 (0%)]\tLoss: 164.923320\n",
      "Train Epoch: 2 [10000/60000 (17%)]\tLoss: 156.491416\n",
      "Train Epoch: 2 [20000/60000 (33%)]\tLoss: 161.070410\n",
      "Train Epoch: 2 [30000/60000 (50%)]\tLoss: 166.285898\n",
      "Train Epoch: 2 [40000/60000 (67%)]\tLoss: 156.244131\n",
      "Train Epoch: 2 [50000/60000 (83%)]\tLoss: 153.381230\n",
      "====> Epoch: 2 Average loss: 158.7774\n",
      "====> Test set loss: 155.5847\n",
      "Train Epoch: 3 [0/60000 (0%)]\tLoss: 154.600752\n",
      "Train Epoch: 3 [10000/60000 (17%)]\tLoss: 151.453506\n",
      "Train Epoch: 3 [20000/60000 (33%)]\tLoss: 148.857754\n",
      "Train Epoch: 3 [30000/60000 (50%)]\tLoss: 157.283223\n",
      "Train Epoch: 3 [40000/60000 (67%)]\tLoss: 159.050215\n",
      "Train Epoch: 3 [50000/60000 (83%)]\tLoss: 150.794082\n",
      "====> Epoch: 3 Average loss: 153.4413\n",
      "====> Test set loss: 151.1607\n",
      "Train Epoch: 4 [0/60000 (0%)]\tLoss: 160.236133\n",
      "Train Epoch: 4 [10000/60000 (17%)]\tLoss: 152.485234\n",
      "Train Epoch: 4 [20000/60000 (33%)]\tLoss: 146.995498\n",
      "Train Epoch: 4 [30000/60000 (50%)]\tLoss: 147.012119\n",
      "Train Epoch: 4 [40000/60000 (67%)]\tLoss: 146.744063\n",
      "Train Epoch: 4 [50000/60000 (83%)]\tLoss: 143.515020\n",
      "====> Epoch: 4 Average loss: 150.2726\n",
      "====> Test set loss: 148.9204\n",
      "Train Epoch: 5 [0/60000 (0%)]\tLoss: 149.120684\n",
      "Train Epoch: 5 [10000/60000 (17%)]\tLoss: 142.988281\n",
      "Train Epoch: 5 [20000/60000 (33%)]\tLoss: 149.659971\n",
      "Train Epoch: 5 [30000/60000 (50%)]\tLoss: 148.433828\n",
      "Train Epoch: 5 [40000/60000 (67%)]\tLoss: 144.953438\n",
      "Train Epoch: 5 [50000/60000 (83%)]\tLoss: 155.055947\n",
      "====> Epoch: 5 Average loss: 148.2750\n",
      "====> Test set loss: 147.6526\n",
      "Train Epoch: 6 [0/60000 (0%)]\tLoss: 151.349951\n",
      "Train Epoch: 6 [10000/60000 (17%)]\tLoss: 139.099443\n",
      "Train Epoch: 6 [20000/60000 (33%)]\tLoss: 143.976074\n",
      "Train Epoch: 6 [30000/60000 (50%)]\tLoss: 144.802324\n",
      "Train Epoch: 6 [40000/60000 (67%)]\tLoss: 140.771016\n",
      "Train Epoch: 6 [50000/60000 (83%)]\tLoss: 154.541152\n",
      "====> Epoch: 6 Average loss: 146.6196\n",
      "====> Test set loss: 146.1667\n",
      "Train Epoch: 7 [0/60000 (0%)]\tLoss: 146.992695\n",
      "Train Epoch: 7 [10000/60000 (17%)]\tLoss: 143.732783\n",
      "Train Epoch: 7 [20000/60000 (33%)]\tLoss: 141.791709\n",
      "Train Epoch: 7 [30000/60000 (50%)]\tLoss: 139.517832\n",
      "Train Epoch: 7 [40000/60000 (67%)]\tLoss: 141.589277\n",
      "Train Epoch: 7 [50000/60000 (83%)]\tLoss: 135.776807\n",
      "====> Epoch: 7 Average loss: 145.3691\n",
      "====> Test set loss: 145.9720\n",
      "Train Epoch: 8 [0/60000 (0%)]\tLoss: 141.561846\n",
      "Train Epoch: 8 [10000/60000 (17%)]\tLoss: 130.313906\n",
      "Train Epoch: 8 [20000/60000 (33%)]\tLoss: 139.764531\n",
      "Train Epoch: 8 [30000/60000 (50%)]\tLoss: 143.897891\n",
      "Train Epoch: 8 [40000/60000 (67%)]\tLoss: 142.143252\n",
      "Train Epoch: 8 [50000/60000 (83%)]\tLoss: 139.950293\n",
      "====> Epoch: 8 Average loss: 144.5384\n",
      "====> Test set loss: 144.5829\n",
      "Train Epoch: 9 [0/60000 (0%)]\tLoss: 143.717187\n",
      "Train Epoch: 9 [10000/60000 (17%)]\tLoss: 141.562666\n",
      "Train Epoch: 9 [20000/60000 (33%)]\tLoss: 140.201396\n",
      "Train Epoch: 9 [30000/60000 (50%)]\tLoss: 142.203740\n",
      "Train Epoch: 9 [40000/60000 (67%)]\tLoss: 155.309824\n"
     ]
    }
   ],
   "source": [
    "for epoch in range(1, 51):\n",
    "    train(epoch)\n",
    "    test()"
   ]
  },
  {
   "cell_type": "code",
   "execution_count": 16,
   "metadata": {},
   "outputs": [
    {
     "ename": "AssertionError",
     "evalue": "Torch not compiled with CUDA enabled",
     "output_type": "error",
     "traceback": [
      "\u001b[1;31m---------------------------------------------------------------------------\u001b[0m",
      "\u001b[1;31mAssertionError\u001b[0m                            Traceback (most recent call last)",
      "Input \u001b[1;32mIn [16]\u001b[0m, in \u001b[0;36m<cell line: 1>\u001b[1;34m()\u001b[0m\n\u001b[0;32m      1\u001b[0m \u001b[38;5;28;01mwith\u001b[39;00m torch\u001b[38;5;241m.\u001b[39mno_grad():\n\u001b[1;32m----> 2\u001b[0m     z \u001b[38;5;241m=\u001b[39m \u001b[43mtorch\u001b[49m\u001b[38;5;241;43m.\u001b[39;49m\u001b[43mrandn\u001b[49m\u001b[43m(\u001b[49m\u001b[38;5;241;43m64\u001b[39;49m\u001b[43m,\u001b[49m\u001b[43m \u001b[49m\u001b[38;5;241;43m2\u001b[39;49m\u001b[43m)\u001b[49m\u001b[38;5;241;43m.\u001b[39;49m\u001b[43mcuda\u001b[49m\u001b[43m(\u001b[49m\u001b[43m)\u001b[49m\n\u001b[0;32m      3\u001b[0m     sample \u001b[38;5;241m=\u001b[39m vae\u001b[38;5;241m.\u001b[39mdecoder(z)\u001b[38;5;241m.\u001b[39mcuda()\n\u001b[0;32m      5\u001b[0m     save_image(sample\u001b[38;5;241m.\u001b[39mview(\u001b[38;5;241m64\u001b[39m, \u001b[38;5;241m1\u001b[39m, \u001b[38;5;241m28\u001b[39m, \u001b[38;5;241m28\u001b[39m), \u001b[38;5;124m'\u001b[39m\u001b[38;5;124m./samples/sample_\u001b[39m\u001b[38;5;124m'\u001b[39m \u001b[38;5;241m+\u001b[39m \u001b[38;5;124m'\u001b[39m\u001b[38;5;124m.png\u001b[39m\u001b[38;5;124m'\u001b[39m)\n",
      "File \u001b[1;32m~\\AppData\\Local\\Programs\\Python\\Python310\\lib\\site-packages\\torch\\cuda\\__init__.py:239\u001b[0m, in \u001b[0;36m_lazy_init\u001b[1;34m()\u001b[0m\n\u001b[0;32m    235\u001b[0m     \u001b[38;5;28;01mraise\u001b[39;00m \u001b[38;5;167;01mRuntimeError\u001b[39;00m(\n\u001b[0;32m    236\u001b[0m         \u001b[38;5;124m\"\u001b[39m\u001b[38;5;124mCannot re-initialize CUDA in forked subprocess. To use CUDA with \u001b[39m\u001b[38;5;124m\"\u001b[39m\n\u001b[0;32m    237\u001b[0m         \u001b[38;5;124m\"\u001b[39m\u001b[38;5;124mmultiprocessing, you must use the \u001b[39m\u001b[38;5;124m'\u001b[39m\u001b[38;5;124mspawn\u001b[39m\u001b[38;5;124m'\u001b[39m\u001b[38;5;124m start method\u001b[39m\u001b[38;5;124m\"\u001b[39m)\n\u001b[0;32m    238\u001b[0m \u001b[38;5;28;01mif\u001b[39;00m \u001b[38;5;129;01mnot\u001b[39;00m \u001b[38;5;28mhasattr\u001b[39m(torch\u001b[38;5;241m.\u001b[39m_C, \u001b[38;5;124m'\u001b[39m\u001b[38;5;124m_cuda_getDeviceCount\u001b[39m\u001b[38;5;124m'\u001b[39m):\n\u001b[1;32m--> 239\u001b[0m     \u001b[38;5;28;01mraise\u001b[39;00m \u001b[38;5;167;01mAssertionError\u001b[39;00m(\u001b[38;5;124m\"\u001b[39m\u001b[38;5;124mTorch not compiled with CUDA enabled\u001b[39m\u001b[38;5;124m\"\u001b[39m)\n\u001b[0;32m    240\u001b[0m \u001b[38;5;28;01mif\u001b[39;00m _cudart \u001b[38;5;129;01mis\u001b[39;00m \u001b[38;5;28;01mNone\u001b[39;00m:\n\u001b[0;32m    241\u001b[0m     \u001b[38;5;28;01mraise\u001b[39;00m \u001b[38;5;167;01mAssertionError\u001b[39;00m(\n\u001b[0;32m    242\u001b[0m         \u001b[38;5;124m\"\u001b[39m\u001b[38;5;124mlibcudart functions unavailable. It looks like you have a broken build?\u001b[39m\u001b[38;5;124m\"\u001b[39m)\n",
      "\u001b[1;31mAssertionError\u001b[0m: Torch not compiled with CUDA enabled"
     ]
    }
   ],
   "source": [
    "with torch.no_grad():\n",
    "    if torch.cuda.is_available():\n",
    "        z = torch.randn(64, 2).cuda()\n",
    "    else:\n",
    "        z = torch.randn(64, 2)\n",
    "    sample = vae.decoder(z)\n",
    "    \n",
    "    if torch.cuda.is_available():\n",
    "        sample = sample.cuda()\n",
    "    \n",
    "    save_image(sample.view(64, 1, 28, 28), './samples/sample_' + '.png')"
   ]
  },
  {
   "cell_type": "code",
   "execution_count": null,
   "metadata": {},
   "outputs": [],
   "source": []
  },
  {
   "cell_type": "code",
   "execution_count": null,
   "metadata": {},
   "outputs": [],
   "source": []
  }
 ],
 "metadata": {
  "kernelspec": {
   "display_name": "Python 3 (ipykernel)",
   "language": "python",
   "name": "python3"
  },
  "language_info": {
   "codemirror_mode": {
    "name": "ipython",
    "version": 3
   },
   "file_extension": ".py",
   "mimetype": "text/x-python",
   "name": "python",
   "nbconvert_exporter": "python",
   "pygments_lexer": "ipython3",
   "version": "3.10.5"
  }
 },
 "nbformat": 4,
 "nbformat_minor": 2
}
